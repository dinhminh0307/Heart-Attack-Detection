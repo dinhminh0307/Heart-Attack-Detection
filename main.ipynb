{
 "cells": [
  {
   "cell_type": "code",
   "execution_count": 14,
   "metadata": {},
   "outputs": [],
   "source": [
    "#!/usr/bin/env python\n",
    "# coding: utf-8"
   ]
  },
  {
   "cell_type": "markdown",
   "metadata": {},
   "source": [
    "In[1]:"
   ]
  },
  {
   "cell_type": "code",
   "execution_count": 15,
   "metadata": {},
   "outputs": [],
   "source": [
    "import pandas as pd\n",
    "import numpy as np\n",
    "import matplotlib.pyplot as plt\n",
    "import seaborn as sns\n",
    "import scipy.stats as stats"
   ]
  },
  {
   "cell_type": "markdown",
   "metadata": {},
   "source": [
    "Set display options"
   ]
  },
  {
   "cell_type": "code",
   "execution_count": 16,
   "metadata": {},
   "outputs": [],
   "source": [
    "pd.set_option('display.max_columns', None)\n",
    "pd.set_option('display.max_rows', 10)"
   ]
  },
  {
   "cell_type": "markdown",
   "metadata": {},
   "source": [
    "Read the CSV file"
   ]
  },
  {
   "cell_type": "code",
   "execution_count": 17,
   "metadata": {},
   "outputs": [],
   "source": [
    "df = pd.read_csv('Heart_Attack.csv')"
   ]
  },
  {
   "cell_type": "markdown",
   "metadata": {},
   "source": [
    "Display the first few rows of the dataset"
   ]
  },
  {
   "cell_type": "code",
   "execution_count": 18,
   "metadata": {},
   "outputs": [
    {
     "name": "stdout",
     "output_type": "stream",
     "text": [
      "First 5 rows of the dataset:\n"
     ]
    },
    {
     "data": {
      "text/html": [
       "<div>\n",
       "<style scoped>\n",
       "    .dataframe tbody tr th:only-of-type {\n",
       "        vertical-align: middle;\n",
       "    }\n",
       "\n",
       "    .dataframe tbody tr th {\n",
       "        vertical-align: top;\n",
       "    }\n",
       "\n",
       "    .dataframe thead th {\n",
       "        text-align: right;\n",
       "    }\n",
       "</style>\n",
       "<table border=\"1\" class=\"dataframe\">\n",
       "  <thead>\n",
       "    <tr style=\"text-align: right;\">\n",
       "      <th></th>\n",
       "      <th>age</th>\n",
       "      <th>sex</th>\n",
       "      <th>Chest pain type</th>\n",
       "      <th>trestbps</th>\n",
       "      <th>cholesterol</th>\n",
       "      <th>fasting blood sugar</th>\n",
       "      <th>resting ecg</th>\n",
       "      <th>max heart rate</th>\n",
       "      <th>exercise angina</th>\n",
       "      <th>oldpeak</th>\n",
       "      <th>ST slope</th>\n",
       "      <th>target</th>\n",
       "    </tr>\n",
       "  </thead>\n",
       "  <tbody>\n",
       "    <tr>\n",
       "      <th>0</th>\n",
       "      <td>70</td>\n",
       "      <td>1</td>\n",
       "      <td>4</td>\n",
       "      <td>130</td>\n",
       "      <td>322</td>\n",
       "      <td>0</td>\n",
       "      <td>2</td>\n",
       "      <td>109</td>\n",
       "      <td>0</td>\n",
       "      <td>2.4</td>\n",
       "      <td>2</td>\n",
       "      <td>2</td>\n",
       "    </tr>\n",
       "    <tr>\n",
       "      <th>1</th>\n",
       "      <td>67</td>\n",
       "      <td>0</td>\n",
       "      <td>3</td>\n",
       "      <td>115</td>\n",
       "      <td>564</td>\n",
       "      <td>0</td>\n",
       "      <td>2</td>\n",
       "      <td>160</td>\n",
       "      <td>0</td>\n",
       "      <td>1.6</td>\n",
       "      <td>2</td>\n",
       "      <td>1</td>\n",
       "    </tr>\n",
       "    <tr>\n",
       "      <th>2</th>\n",
       "      <td>57</td>\n",
       "      <td>1</td>\n",
       "      <td>2</td>\n",
       "      <td>124</td>\n",
       "      <td>261</td>\n",
       "      <td>0</td>\n",
       "      <td>0</td>\n",
       "      <td>141</td>\n",
       "      <td>0</td>\n",
       "      <td>0.3</td>\n",
       "      <td>1</td>\n",
       "      <td>2</td>\n",
       "    </tr>\n",
       "    <tr>\n",
       "      <th>3</th>\n",
       "      <td>64</td>\n",
       "      <td>1</td>\n",
       "      <td>4</td>\n",
       "      <td>128</td>\n",
       "      <td>263</td>\n",
       "      <td>0</td>\n",
       "      <td>0</td>\n",
       "      <td>105</td>\n",
       "      <td>1</td>\n",
       "      <td>0.2</td>\n",
       "      <td>2</td>\n",
       "      <td>1</td>\n",
       "    </tr>\n",
       "    <tr>\n",
       "      <th>4</th>\n",
       "      <td>74</td>\n",
       "      <td>0</td>\n",
       "      <td>2</td>\n",
       "      <td>120</td>\n",
       "      <td>269</td>\n",
       "      <td>0</td>\n",
       "      <td>2</td>\n",
       "      <td>121</td>\n",
       "      <td>1</td>\n",
       "      <td>0.2</td>\n",
       "      <td>1</td>\n",
       "      <td>1</td>\n",
       "    </tr>\n",
       "  </tbody>\n",
       "</table>\n",
       "</div>"
      ],
      "text/plain": [
       "   age  sex  Chest pain type  trestbps  cholesterol  fasting blood sugar  \\\n",
       "0   70    1                4       130          322                    0   \n",
       "1   67    0                3       115          564                    0   \n",
       "2   57    1                2       124          261                    0   \n",
       "3   64    1                4       128          263                    0   \n",
       "4   74    0                2       120          269                    0   \n",
       "\n",
       "   resting ecg  max heart rate  exercise angina  oldpeak  ST slope  target  \n",
       "0            2             109                0      2.4         2       2  \n",
       "1            2             160                0      1.6         2       1  \n",
       "2            0             141                0      0.3         1       2  \n",
       "3            0             105                1      0.2         2       1  \n",
       "4            2             121                1      0.2         1       1  "
      ]
     },
     "execution_count": 18,
     "metadata": {},
     "output_type": "execute_result"
    }
   ],
   "source": [
    "print(\"First 5 rows of the dataset:\")\n",
    "df.head()"
   ]
  },
  {
   "cell_type": "markdown",
   "metadata": {},
   "source": [
    "In[2]:"
   ]
  },
  {
   "cell_type": "markdown",
   "metadata": {},
   "source": [
    "Display basic information about the dataset"
   ]
  },
  {
   "cell_type": "code",
   "execution_count": 19,
   "metadata": {},
   "outputs": [
    {
     "name": "stdout",
     "output_type": "stream",
     "text": [
      "Dataset Information:\n",
      "Number of rows: 1763\n",
      "Number of columns: 12\n",
      "\n",
      "Data Types:\n",
      "age                  int64\n",
      "sex                  int64\n",
      "Chest pain type      int64\n",
      "trestbps             int64\n",
      "cholesterol          int64\n",
      "                    ...   \n",
      "max heart rate       int64\n",
      "exercise angina      int64\n",
      "oldpeak            float64\n",
      "ST slope             int64\n",
      "target               int64\n",
      "Length: 12, dtype: object\n",
      "\n",
      "Missing Values:\n",
      "age                0\n",
      "sex                0\n",
      "Chest pain type    0\n",
      "trestbps           0\n",
      "cholesterol        0\n",
      "                  ..\n",
      "max heart rate     0\n",
      "exercise angina    0\n",
      "oldpeak            0\n",
      "ST slope           0\n",
      "target             0\n",
      "Length: 12, dtype: int64\n"
     ]
    }
   ],
   "source": [
    "print(\"Dataset Information:\")\n",
    "print(f\"Number of rows: {df.shape[0]}\")\n",
    "print(f\"Number of columns: {df.shape[1]}\")\n",
    "print(\"\\nData Types:\")\n",
    "print(df.dtypes)\n",
    "print(\"\\nMissing Values:\")\n",
    "print(df.isnull().sum())"
   ]
  },
  {
   "cell_type": "markdown",
   "metadata": {},
   "source": [
    "In[3]:"
   ]
  },
  {
   "cell_type": "markdown",
   "metadata": {},
   "source": [
    "Statistical summary of the dataset"
   ]
  },
  {
   "cell_type": "code",
   "execution_count": 20,
   "metadata": {},
   "outputs": [
    {
     "name": "stdout",
     "output_type": "stream",
     "text": [
      "Statistical Summary:\n"
     ]
    },
    {
     "data": {
      "text/html": [
       "<div>\n",
       "<style scoped>\n",
       "    .dataframe tbody tr th:only-of-type {\n",
       "        vertical-align: middle;\n",
       "    }\n",
       "\n",
       "    .dataframe tbody tr th {\n",
       "        vertical-align: top;\n",
       "    }\n",
       "\n",
       "    .dataframe thead th {\n",
       "        text-align: right;\n",
       "    }\n",
       "</style>\n",
       "<table border=\"1\" class=\"dataframe\">\n",
       "  <thead>\n",
       "    <tr style=\"text-align: right;\">\n",
       "      <th></th>\n",
       "      <th>age</th>\n",
       "      <th>sex</th>\n",
       "      <th>Chest pain type</th>\n",
       "      <th>trestbps</th>\n",
       "      <th>cholesterol</th>\n",
       "      <th>fasting blood sugar</th>\n",
       "      <th>resting ecg</th>\n",
       "      <th>max heart rate</th>\n",
       "      <th>exercise angina</th>\n",
       "      <th>oldpeak</th>\n",
       "      <th>ST slope</th>\n",
       "      <th>target</th>\n",
       "    </tr>\n",
       "  </thead>\n",
       "  <tbody>\n",
       "    <tr>\n",
       "      <th>count</th>\n",
       "      <td>1763.000000</td>\n",
       "      <td>1763.000000</td>\n",
       "      <td>1763.000000</td>\n",
       "      <td>1763.000000</td>\n",
       "      <td>1763.000000</td>\n",
       "      <td>1763.000000</td>\n",
       "      <td>1763.000000</td>\n",
       "      <td>1763.000000</td>\n",
       "      <td>1763.000000</td>\n",
       "      <td>1763.000000</td>\n",
       "      <td>1763.000000</td>\n",
       "      <td>1763.000000</td>\n",
       "    </tr>\n",
       "    <tr>\n",
       "      <th>mean</th>\n",
       "      <td>53.952921</td>\n",
       "      <td>0.736245</td>\n",
       "      <td>3.039138</td>\n",
       "      <td>131.950085</td>\n",
       "      <td>222.625638</td>\n",
       "      <td>0.192286</td>\n",
       "      <td>0.798071</td>\n",
       "      <td>142.952921</td>\n",
       "      <td>0.368123</td>\n",
       "      <td>0.962337</td>\n",
       "      <td>1.442428</td>\n",
       "      <td>0.656835</td>\n",
       "    </tr>\n",
       "    <tr>\n",
       "      <th>std</th>\n",
       "      <td>9.267101</td>\n",
       "      <td>0.440793</td>\n",
       "      <td>1.023642</td>\n",
       "      <td>18.154333</td>\n",
       "      <td>90.119674</td>\n",
       "      <td>0.394208</td>\n",
       "      <td>0.923926</td>\n",
       "      <td>25.150727</td>\n",
       "      <td>0.482432</td>\n",
       "      <td>1.109458</td>\n",
       "      <td>0.722159</td>\n",
       "      <td>0.601448</td>\n",
       "    </tr>\n",
       "    <tr>\n",
       "      <th>min</th>\n",
       "      <td>28.000000</td>\n",
       "      <td>0.000000</td>\n",
       "      <td>0.000000</td>\n",
       "      <td>0.000000</td>\n",
       "      <td>0.000000</td>\n",
       "      <td>0.000000</td>\n",
       "      <td>0.000000</td>\n",
       "      <td>60.000000</td>\n",
       "      <td>0.000000</td>\n",
       "      <td>-2.600000</td>\n",
       "      <td>0.000000</td>\n",
       "      <td>0.000000</td>\n",
       "    </tr>\n",
       "    <tr>\n",
       "      <th>25%</th>\n",
       "      <td>47.000000</td>\n",
       "      <td>0.000000</td>\n",
       "      <td>2.000000</td>\n",
       "      <td>120.000000</td>\n",
       "      <td>199.000000</td>\n",
       "      <td>0.000000</td>\n",
       "      <td>0.000000</td>\n",
       "      <td>125.000000</td>\n",
       "      <td>0.000000</td>\n",
       "      <td>0.000000</td>\n",
       "      <td>1.000000</td>\n",
       "      <td>0.000000</td>\n",
       "    </tr>\n",
       "    <tr>\n",
       "      <th>50%</th>\n",
       "      <td>55.000000</td>\n",
       "      <td>1.000000</td>\n",
       "      <td>3.000000</td>\n",
       "      <td>130.000000</td>\n",
       "      <td>234.000000</td>\n",
       "      <td>0.000000</td>\n",
       "      <td>0.000000</td>\n",
       "      <td>145.000000</td>\n",
       "      <td>0.000000</td>\n",
       "      <td>0.600000</td>\n",
       "      <td>1.000000</td>\n",
       "      <td>1.000000</td>\n",
       "    </tr>\n",
       "    <tr>\n",
       "      <th>75%</th>\n",
       "      <td>61.000000</td>\n",
       "      <td>1.000000</td>\n",
       "      <td>4.000000</td>\n",
       "      <td>140.000000</td>\n",
       "      <td>272.500000</td>\n",
       "      <td>0.000000</td>\n",
       "      <td>2.000000</td>\n",
       "      <td>162.000000</td>\n",
       "      <td>1.000000</td>\n",
       "      <td>1.600000</td>\n",
       "      <td>2.000000</td>\n",
       "      <td>1.000000</td>\n",
       "    </tr>\n",
       "    <tr>\n",
       "      <th>max</th>\n",
       "      <td>77.000000</td>\n",
       "      <td>1.000000</td>\n",
       "      <td>4.000000</td>\n",
       "      <td>200.000000</td>\n",
       "      <td>603.000000</td>\n",
       "      <td>1.000000</td>\n",
       "      <td>2.000000</td>\n",
       "      <td>202.000000</td>\n",
       "      <td>1.000000</td>\n",
       "      <td>6.200000</td>\n",
       "      <td>3.000000</td>\n",
       "      <td>2.000000</td>\n",
       "    </tr>\n",
       "  </tbody>\n",
       "</table>\n",
       "</div>"
      ],
      "text/plain": [
       "               age          sex  Chest pain type     trestbps  cholesterol  \\\n",
       "count  1763.000000  1763.000000      1763.000000  1763.000000  1763.000000   \n",
       "mean     53.952921     0.736245         3.039138   131.950085   222.625638   \n",
       "std       9.267101     0.440793         1.023642    18.154333    90.119674   \n",
       "min      28.000000     0.000000         0.000000     0.000000     0.000000   \n",
       "25%      47.000000     0.000000         2.000000   120.000000   199.000000   \n",
       "50%      55.000000     1.000000         3.000000   130.000000   234.000000   \n",
       "75%      61.000000     1.000000         4.000000   140.000000   272.500000   \n",
       "max      77.000000     1.000000         4.000000   200.000000   603.000000   \n",
       "\n",
       "       fasting blood sugar  resting ecg  max heart rate  exercise angina  \\\n",
       "count          1763.000000  1763.000000     1763.000000      1763.000000   \n",
       "mean              0.192286     0.798071      142.952921         0.368123   \n",
       "std               0.394208     0.923926       25.150727         0.482432   \n",
       "min               0.000000     0.000000       60.000000         0.000000   \n",
       "25%               0.000000     0.000000      125.000000         0.000000   \n",
       "50%               0.000000     0.000000      145.000000         0.000000   \n",
       "75%               0.000000     2.000000      162.000000         1.000000   \n",
       "max               1.000000     2.000000      202.000000         1.000000   \n",
       "\n",
       "           oldpeak     ST slope       target  \n",
       "count  1763.000000  1763.000000  1763.000000  \n",
       "mean      0.962337     1.442428     0.656835  \n",
       "std       1.109458     0.722159     0.601448  \n",
       "min      -2.600000     0.000000     0.000000  \n",
       "25%       0.000000     1.000000     0.000000  \n",
       "50%       0.600000     1.000000     1.000000  \n",
       "75%       1.600000     2.000000     1.000000  \n",
       "max       6.200000     3.000000     2.000000  "
      ]
     },
     "execution_count": 20,
     "metadata": {},
     "output_type": "execute_result"
    }
   ],
   "source": [
    "print(\"Statistical Summary:\")\n",
    "df.describe()"
   ]
  },
  {
   "cell_type": "markdown",
   "metadata": {},
   "source": [
    "In[4]:"
   ]
  },
  {
   "cell_type": "markdown",
   "metadata": {},
   "source": [
    "Check for any unusual values (zeros, negatives) in key medical metrics"
   ]
  },
  {
   "cell_type": "code",
   "execution_count": 21,
   "metadata": {},
   "outputs": [
    {
     "name": "stdout",
     "output_type": "stream",
     "text": [
      "Check for unusual values:\n",
      "Cholesterol min: 0, max: 603\n",
      "Blood pressure min: 0, max: 200\n",
      "Max heart rate min: 60, max: 202\n"
     ]
    }
   ],
   "source": [
    "print(\"Check for unusual values:\")\n",
    "print(f\"Cholesterol min: {df['cholesterol'].min()}, max: {df['cholesterol'].max()}\")\n",
    "print(f\"Blood pressure min: {df['trestbps'].min()}, max: {df['trestbps'].max()}\")\n",
    "print(f\"Max heart rate min: {df['max heart rate'].min()}, max: {df['max heart rate'].max()}\")"
   ]
  },
  {
   "cell_type": "markdown",
   "metadata": {},
   "source": [
    "Plot distributions of key features"
   ]
  },
  {
   "cell_type": "code",
   "execution_count": 22,
   "metadata": {},
   "outputs": [
    {
     "data": {
      "text/plain": [
       "<Figure size 1500x1000 with 0 Axes>"
      ]
     },
     "execution_count": 22,
     "metadata": {},
     "output_type": "execute_result"
    },
    {
     "data": {
      "text/plain": [
       "<Figure size 1500x1000 with 0 Axes>"
      ]
     },
     "metadata": {},
     "output_type": "display_data"
    }
   ],
   "source": [
    "plt.figure(figsize=(15, 10))"
   ]
  },
  {
   "cell_type": "code",
   "execution_count": 23,
   "metadata": {},
   "outputs": [
    {
     "data": {
      "text/plain": [
       "Text(0.5, 1.0, 'Age Distribution')"
      ]
     },
     "execution_count": 23,
     "metadata": {},
     "output_type": "execute_result"
    },
    {
     "data": {
      "image/png": "[encoded data removed]",
      "text/plain": [
       "<Figure size 640x480 with 1 Axes>"
      ]
     },
     "metadata": {},
     "output_type": "display_data"
    }
   ],
   "source": [
    "plt.subplot(2, 3, 1)\n",
    "sns.histplot(df['age'], kde=True)\n",
    "plt.title('Age Distribution')"
   ]
  },
  {
   "cell_type": "code",
   "execution_count": 24,
   "metadata": {},
   "outputs": [
    {
     "data": {
      "text/plain": [
       "Text(0.5, 1.0, 'Cholesterol Distribution')"
      ]
     },
     "execution_count": 24,
     "metadata": {},
     "output_type": "execute_result"
    },
    {
     "data": {
      "image/png": "[encoded data removed]",
      "text/plain": [
       "<Figure size 640x480 with 1 Axes>"
      ]
     },
     "metadata": {},
     "output_type": "display_data"
    }
   ],
   "source": [
    "plt.subplot(2, 3, 2)\n",
    "sns.histplot(df['cholesterol'], kde=True)\n",
    "plt.title('Cholesterol Distribution')"
   ]
  },
  {
   "cell_type": "code",
   "execution_count": 25,
   "metadata": {},
   "outputs": [
    {
     "data": {
      "text/plain": [
       "Text(0.5, 1.0, 'Resting Blood Pressure')"
      ]
     },
     "execution_count": 25,
     "metadata": {},
     "output_type": "execute_result"
    },
    {
     "data": {
      "image/png": "[encoded data removed]",
      "text/plain": [
       "<Figure size 640x480 with 1 Axes>"
      ]
     },
     "metadata": {},
     "output_type": "display_data"
    }
   ],
   "source": [
    "plt.subplot(2, 3, 3)\n",
    "sns.histplot(df['trestbps'], kde=True)\n",
    "plt.title('Resting Blood Pressure')"
   ]
  },
  {
   "cell_type": "code",
   "execution_count": 26,
   "metadata": {},
   "outputs": [
    {
     "data": {
      "text/plain": [
       "Text(0.5, 1.0, 'Max Heart Rate Distribution')"
      ]
     },
     "execution_count": 26,
     "metadata": {},
     "output_type": "execute_result"
    },
    {
     "data": {
      "image/png": "[encoded data removed]",
      "text/plain": [
       "<Figure size 640x480 with 1 Axes>"
      ]
     },
     "metadata": {},
     "output_type": "display_data"
    }
   ],
   "source": [
    "plt.subplot(2, 3, 4)\n",
    "sns.histplot(df['max heart rate'], kde=True)\n",
    "plt.title('Max Heart Rate Distribution')"
   ]
  },
  {
   "cell_type": "code",
   "execution_count": 27,
   "metadata": {},
   "outputs": [
    {
     "data": {
      "text/plain": [
       "Text(0.5, 1.0, 'Sex Distribution (0=Female, 1=Male)')"
      ]
     },
     "execution_count": 27,
     "metadata": {},
     "output_type": "execute_result"
    },
    {
     "data": {
      "image/png": "[encoded data removed]",
      "text/plain": [
       "<Figure size 640x480 with 1 Axes>"
      ]
     },
     "metadata": {},
     "output_type": "display_data"
    }
   ],
   "source": [
    "plt.subplot(2, 3, 5)\n",
    "sns.countplot(x='sex', data=df)\n",
    "plt.title('Sex Distribution (0=Female, 1=Male)')"
   ]
  },
  {
   "cell_type": "code",
   "execution_count": 28,
   "metadata": {},
   "outputs": [
    {
     "data": {
      "text/plain": [
       "Text(0.5, 1.0, 'Target Distribution (0=No disease, 1=Disease)')"
      ]
     },
     "execution_count": 28,
     "metadata": {},
     "output_type": "execute_result"
    },
    {
     "data": {
      "image/png": "[encoded data removed]",
      "text/plain": [
       "<Figure size 640x480 with 1 Axes>"
      ]
     },
     "metadata": {},
     "output_type": "display_data"
    }
   ],
   "source": [
    "plt.subplot(2, 3, 6)\n",
    "sns.countplot(x='target', data=df)\n",
    "plt.title('Target Distribution (0=No disease, 1=Disease)')"
   ]
  },
  {
   "cell_type": "code",
   "execution_count": 29,
   "metadata": {},
   "outputs": [
    {
     "data": {
      "text/plain": [
       "<Figure size 640x480 with 0 Axes>"
      ]
     },
     "metadata": {},
     "output_type": "display_data"
    }
   ],
   "source": [
    "plt.tight_layout()\n",
    "plt.show()"
   ]
  },
  {
   "cell_type": "markdown",
   "metadata": {},
   "source": [
    "In[5]:"
   ]
  },
  {
   "cell_type": "markdown",
   "metadata": {},
   "source": [
    "Check correlations between features"
   ]
  },
  {
   "cell_type": "code",
   "execution_count": 30,
   "metadata": {},
   "outputs": [
    {
     "data": {
      "image/png": "[encoded data removed]",
      "text/plain": [
       "<Figure size 1200x1000 with 2 Axes>"
      ]
     },
     "metadata": {},
     "output_type": "display_data"
    }
   ],
   "source": [
    "plt.figure(figsize=(12, 10))\n",
    "correlation_matrix = df.corr()\n",
    "sns.heatmap(correlation_matrix, annot=True, cmap='coolwarm', fmt='.2f', linewidths=0.5)\n",
    "plt.title('Correlation Matrix')\n",
    "plt.show()"
   ]
  },
  {
   "cell_type": "markdown",
   "metadata": {},
   "source": [
    "Check class distribution"
   ]
  },
  {
   "cell_type": "code",
   "execution_count": 31,
   "metadata": {},
   "outputs": [
    {
     "name": "stdout",
     "output_type": "stream",
     "text": [
      "Target Class Distribution:\n",
      "target\n",
      "1    918\n",
      "0    725\n",
      "2    120\n",
      "Name: count, dtype: int64\n",
      "Class Balance: target\n",
      "1    0.520703\n",
      "0    0.411231\n",
      "2    0.068066\n",
      "Name: proportion, dtype: float64\n"
     ]
    }
   ],
   "source": [
    "print(\"Target Class Distribution:\")\n",
    "print(df['target'].value_counts())\n",
    "print(f\"Class Balance: {df['target'].value_counts(normalize=True)}\")"
   ]
  },
  {
   "cell_type": "markdown",
   "metadata": {},
   "source": [
    "# Data Cleaning Process<br>\n",
    "<br>\n",
    "From our exploratory data analysis, we've identified several issues that need addressing:<br>\n",
    "<br>\n",
    "1. **Zero values in cholesterol and blood pressure**: These are likely errors since these metrics can't be zero in living patients.<br>\n",
    "2. **Outliers in cholesterol**: There are some very high values (up to 603) that might be outliers.<br>\n",
    "3. **No missing values**: The dataset appears to be complete, so we don't need to handle missing values.<br>\n",
    "4. **Target has 3 classes**: We have 0, 1, and 2 values in the target column. We'll keep this as is, but it's important to note that this is a multi-class classification problem.<br>\n",
    "<br>\n",
    "Let's clean these issues one by one."
   ]
  },
  {
   "cell_type": "markdown",
   "metadata": {},
   "source": [
    "In[6]:"
   ]
  },
  {
   "cell_type": "markdown",
   "metadata": {},
   "source": [
    "Step 1: Handle duplicates"
   ]
  },
  {
   "cell_type": "code",
   "execution_count": 32,
   "metadata": {},
   "outputs": [
    {
     "name": "stdout",
     "output_type": "stream",
     "text": [
      "Before removing duplicates: (1763, 12)\n",
      "After removing duplicates: (1491, 12)\n"
     ]
    }
   ],
   "source": [
    "print(\"Before removing duplicates:\", df.shape)\n",
    "df = df.drop_duplicates()\n",
    "print(\"After removing duplicates:\", df.shape)"
   ]
  },
  {
   "cell_type": "markdown",
   "metadata": {},
   "source": [
    "In[7]:"
   ]
  },
  {
   "cell_type": "markdown",
   "metadata": {},
   "source": [
    "Step 2: Handle zero values in medical metrics<br>\n",
    "First, let's see how many zeros we have in each column"
   ]
  },
  {
   "cell_type": "code",
   "execution_count": 33,
   "metadata": {},
   "outputs": [
    {
     "name": "stdout",
     "output_type": "stream",
     "text": [
      "Number of zeros in key medical columns:\n",
      "Cholesterol: 172\n",
      "Blood pressure (trestbps): 1\n"
     ]
    }
   ],
   "source": [
    "print(\"Number of zeros in key medical columns:\")\n",
    "print(f\"Cholesterol: {(df['cholesterol'] == 0).sum()}\")\n",
    "print(f\"Blood pressure (trestbps): {(df['trestbps'] == 0).sum()}\")"
   ]
  },
  {
   "cell_type": "markdown",
   "metadata": {},
   "source": [
    "Replace zeros in cholesterol with the median (medical metrics can't be zero)"
   ]
  },
  {
   "cell_type": "code",
   "execution_count": 34,
   "metadata": {},
   "outputs": [],
   "source": [
    "median_cholesterol = df[df['cholesterol'] > 0]['cholesterol'].median()\n",
    "df['cholesterol'] = df['cholesterol'].replace(0, median_cholesterol)"
   ]
  },
  {
   "cell_type": "markdown",
   "metadata": {},
   "source": [
    "Replace zeros in blood pressure with the median"
   ]
  },
  {
   "cell_type": "code",
   "execution_count": 35,
   "metadata": {},
   "outputs": [],
   "source": [
    "median_trestbps = df[df['trestbps'] > 0]['trestbps'].median()\n",
    "df['trestbps'] = df['trestbps'].replace(0, median_trestbps)"
   ]
  },
  {
   "cell_type": "markdown",
   "metadata": {},
   "source": [
    "Verify the replacements"
   ]
  },
  {
   "cell_type": "code",
   "execution_count": 36,
   "metadata": {},
   "outputs": [
    {
     "name": "stdout",
     "output_type": "stream",
     "text": [
      "\n",
      "After replacement:\n",
      "Cholesterol min: 85, max: 603\n",
      "Blood pressure min: 80, max: 200\n"
     ]
    }
   ],
   "source": [
    "print(\"\\nAfter replacement:\")\n",
    "print(f\"Cholesterol min: {df['cholesterol'].min()}, max: {df['cholesterol'].max()}\")\n",
    "print(f\"Blood pressure min: {df['trestbps'].min()}, max: {df['trestbps'].max()}\")"
   ]
  },
  {
   "cell_type": "markdown",
   "metadata": {},
   "source": [
    "In[8]:"
   ]
  },
  {
   "cell_type": "markdown",
   "metadata": {},
   "source": [
    "Step 3: Handle outliers<br>\n",
    "For cholesterol, values above 500 are rare and may be outliers<br>\n",
    "Let's examine the cholesterol distribution with a boxplot"
   ]
  },
  {
   "cell_type": "code",
   "execution_count": 37,
   "metadata": {},
   "outputs": [
    {
     "data": {
      "image/png": "[encoded data removed]",
      "text/plain": [
       "<Figure size 1000x600 with 1 Axes>"
      ]
     },
     "metadata": {},
     "output_type": "display_data"
    }
   ],
   "source": [
    "plt.figure(figsize=(10, 6))\n",
    "sns.boxplot(x=df['cholesterol'])\n",
    "plt.title('Cholesterol Distribution - Boxplot')\n",
    "plt.show()"
   ]
  },
  {
   "cell_type": "markdown",
   "metadata": {},
   "source": [
    "Calculate statistics for cholesterol"
   ]
  },
  {
   "cell_type": "code",
   "execution_count": 38,
   "metadata": {},
   "outputs": [
    {
     "name": "stdout",
     "output_type": "stream",
     "text": [
      "Cholesterol Statistics:\n",
      "95th percentile: 330.0\n",
      "99th percentile: 409.0\n",
      "Max value: 603\n"
     ]
    }
   ],
   "source": [
    "print(\"Cholesterol Statistics:\")\n",
    "print(f\"95th percentile: {df['cholesterol'].quantile(0.95)}\")\n",
    "print(f\"99th percentile: {df['cholesterol'].quantile(0.99)}\")\n",
    "print(f\"Max value: {df['cholesterol'].max()}\")"
   ]
  },
  {
   "cell_type": "markdown",
   "metadata": {},
   "source": [
    "Let's cap cholesterol values at the 99th percentile"
   ]
  },
  {
   "cell_type": "code",
   "execution_count": 39,
   "metadata": {},
   "outputs": [],
   "source": [
    "cholesterol_cap = df['cholesterol'].quantile(0.99)\n",
    "df['cholesterol'] = df['cholesterol'].clip(upper=cholesterol_cap)"
   ]
  },
  {
   "cell_type": "markdown",
   "metadata": {},
   "source": [
    "Verify the change"
   ]
  },
  {
   "cell_type": "code",
   "execution_count": 40,
   "metadata": {},
   "outputs": [
    {
     "name": "stdout",
     "output_type": "stream",
     "text": [
      "\n",
      "After capping outliers, cholesterol max: 409\n"
     ]
    }
   ],
   "source": [
    "print(f\"\\nAfter capping outliers, cholesterol max: {df['cholesterol'].max()}\")"
   ]
  },
  {
   "cell_type": "markdown",
   "metadata": {},
   "source": [
    "In[9]:"
   ]
  },
  {
   "cell_type": "markdown",
   "metadata": {},
   "source": [
    "Step 4: Check data types and ensure consistency<br>\n",
    "Let's look at the data types of all columns"
   ]
  },
  {
   "cell_type": "code",
   "execution_count": 41,
   "metadata": {},
   "outputs": [
    {
     "name": "stdout",
     "output_type": "stream",
     "text": [
      "Data types before conversion:\n",
      "age                  int64\n",
      "sex                  int64\n",
      "Chest pain type      int64\n",
      "trestbps             int64\n",
      "cholesterol          int64\n",
      "                    ...   \n",
      "max heart rate       int64\n",
      "exercise angina      int64\n",
      "oldpeak            float64\n",
      "ST slope             int64\n",
      "target               int64\n",
      "Length: 12, dtype: object\n"
     ]
    }
   ],
   "source": [
    "print(\"Data types before conversion:\")\n",
    "print(df.dtypes)"
   ]
  },
  {
   "cell_type": "markdown",
   "metadata": {},
   "source": [
    "The data already seems to be in numeric format, but let's check the unique values<br>\n",
    "to make sure they're properly encoded"
   ]
  },
  {
   "cell_type": "code",
   "execution_count": 42,
   "metadata": {},
   "outputs": [
    {
     "name": "stdout",
     "output_type": "stream",
     "text": [
      "\n",
      "Unique values in categorical columns:\n",
      "sex: [0, 1]\n",
      "Chest pain type: [0, 1, 2, 3, 4]\n",
      "resting ecg: [0, 1, 2]\n",
      "exercise angina: [0, 1]\n",
      "ST slope: [0, 1, 2, 3]\n"
     ]
    }
   ],
   "source": [
    "print(\"\\nUnique values in categorical columns:\")\n",
    "categorical_cols = ['sex', 'Chest pain type', 'resting ecg', 'exercise angina', 'ST slope']\n",
    "for col in categorical_cols:\n",
    "    print(f\"{col}: {sorted(df[col].unique())}\")"
   ]
  },
  {
   "cell_type": "markdown",
   "metadata": {},
   "source": [
    "No need for encoding since all values are already numeric<br>\n",
    "But we should document what the numeric values mean"
   ]
  },
  {
   "cell_type": "code",
   "execution_count": 43,
   "metadata": {},
   "outputs": [
    {
     "name": "stdout",
     "output_type": "stream",
     "text": [
      "\n",
      "Categorical columns interpretation:\n",
      "sex: 0 = Female, 1 = Male\n",
      "Chest pain type: Values 0-3 (0: Typical Angina, 1: Atypical Angina, 2: Non-anginal Pain, 3: Asymptomatic)\n",
      "resting ecg: Values 0-2 (0: Normal, 1: ST-T wave abnormality, 2: Left ventricular hypertrophy)\n",
      "exercise angina: 0 = No, 1 = Yes\n",
      "ST slope: Values 0-2 (0: Upsloping, 1: Flat, 2: Downsloping)\n",
      "target: 0 = No disease, 1 = Disease, 2 = Severe disease\n"
     ]
    }
   ],
   "source": [
    "print(\"\\nCategorical columns interpretation:\")\n",
    "print(\"sex: 0 = Female, 1 = Male\")\n",
    "print(\"Chest pain type: Values 0-3 (0: Typical Angina, 1: Atypical Angina, 2: Non-anginal Pain, 3: Asymptomatic)\")\n",
    "print(\"resting ecg: Values 0-2 (0: Normal, 1: ST-T wave abnormality, 2: Left ventricular hypertrophy)\")\n",
    "print(\"exercise angina: 0 = No, 1 = Yes\")\n",
    "print(\"ST slope: Values 0-2 (0: Upsloping, 1: Flat, 2: Downsloping)\")\n",
    "print(\"target: 0 = No disease, 1 = Disease, 2 = Severe disease\")"
   ]
  },
  {
   "cell_type": "markdown",
   "metadata": {},
   "source": [
    "In[10]:"
   ]
  },
  {
   "cell_type": "markdown",
   "metadata": {},
   "source": [
    "Step 5: Handle inconsistent categorical values<br>\n",
    "Check how many records have these unexpected values"
   ]
  },
  {
   "cell_type": "code",
   "execution_count": 44,
   "metadata": {},
   "outputs": [
    {
     "name": "stdout",
     "output_type": "stream",
     "text": [
      "Records with unexpected category values:\n",
      "Chest pain type = 4: 625\n",
      "ST slope = 3: 81\n"
     ]
    }
   ],
   "source": [
    "print(\"Records with unexpected category values:\")\n",
    "print(f\"Chest pain type = 4: {(df['Chest pain type'] == 4).sum()}\")\n",
    "print(f\"ST slope = 3: {(df['ST slope'] == 3).sum()}\")"
   ]
  },
  {
   "cell_type": "markdown",
   "metadata": {},
   "source": [
    "Replace these with the most common value in each column (mode)"
   ]
  },
  {
   "cell_type": "code",
   "execution_count": 45,
   "metadata": {},
   "outputs": [
    {
     "name": "stdout",
     "output_type": "stream",
     "text": [
      "Replaced Chest pain type 4 with 3\n"
     ]
    }
   ],
   "source": [
    "if (df['Chest pain type'] == 4).sum() > 0:\n",
    "    mode_chest_pain = df[df['Chest pain type'] != 4]['Chest pain type'].mode()[0]\n",
    "    df.loc[df['Chest pain type'] == 4, 'Chest pain type'] = mode_chest_pain\n",
    "    print(f\"Replaced Chest pain type 4 with {mode_chest_pain}\")"
   ]
  },
  {
   "cell_type": "code",
   "execution_count": 46,
   "metadata": {},
   "outputs": [
    {
     "name": "stdout",
     "output_type": "stream",
     "text": [
      "Replaced ST slope 3 with 1\n"
     ]
    }
   ],
   "source": [
    "if (df['ST slope'] == 3).sum() > 0:\n",
    "    mode_st_slope = df[df['ST slope'] != 3]['ST slope'].mode()[0]\n",
    "    df.loc[df['ST slope'] == 3, 'ST slope'] = mode_st_slope\n",
    "    print(f\"Replaced ST slope 3 with {mode_st_slope}\")"
   ]
  },
  {
   "cell_type": "markdown",
   "metadata": {},
   "source": [
    "Verify the changes"
   ]
  },
  {
   "cell_type": "code",
   "execution_count": 47,
   "metadata": {},
   "outputs": [
    {
     "name": "stdout",
     "output_type": "stream",
     "text": [
      "\n",
      "After fixing inconsistent values:\n",
      "sex: [0, 1]\n",
      "Chest pain type: [0, 1, 2, 3]\n",
      "resting ecg: [0, 1, 2]\n",
      "exercise angina: [0, 1]\n",
      "ST slope: [0, 1, 2]\n"
     ]
    }
   ],
   "source": [
    "print(\"\\nAfter fixing inconsistent values:\")\n",
    "for col in categorical_cols:\n",
    "    print(f\"{col}: {sorted(df[col].unique())}\")"
   ]
  },
  {
   "cell_type": "markdown",
   "metadata": {},
   "source": [
    "In[11]:"
   ]
  },
  {
   "cell_type": "markdown",
   "metadata": {},
   "source": [
    "Step 6: Final data validation<br>\n",
    "Let's check that all our cleaning steps have been applied properly"
   ]
  },
  {
   "cell_type": "code",
   "execution_count": 48,
   "metadata": {},
   "outputs": [
    {
     "name": "stdout",
     "output_type": "stream",
     "text": [
      "Final Data Validation:\n",
      "Number of rows in cleaned dataset: 1491\n",
      "Number of columns: 12\n",
      "Missing values: 0\n",
      "Cholesterol range: 85 - 409\n",
      "Blood pressure range: 80 - 200\n"
     ]
    }
   ],
   "source": [
    "print(\"Final Data Validation:\")\n",
    "print(f\"Number of rows in cleaned dataset: {df.shape[0]}\")\n",
    "print(f\"Number of columns: {df.shape[1]}\")\n",
    "print(f\"Missing values: {df.isnull().sum().sum()}\")\n",
    "print(f\"Cholesterol range: {df['cholesterol'].min()} - {df['cholesterol'].max()}\")\n",
    "print(f\"Blood pressure range: {df['trestbps'].min()} - {df['trestbps'].max()}\")"
   ]
  },
  {
   "cell_type": "markdown",
   "metadata": {},
   "source": [
    "Visualize the final distributions of the key medical metrics"
   ]
  },
  {
   "cell_type": "code",
   "execution_count": 49,
   "metadata": {},
   "outputs": [
    {
     "data": {
      "text/plain": [
       "<Figure size 1500x500 with 0 Axes>"
      ]
     },
     "execution_count": 49,
     "metadata": {},
     "output_type": "execute_result"
    },
    {
     "data": {
      "text/plain": [
       "<Figure size 1500x500 with 0 Axes>"
      ]
     },
     "metadata": {},
     "output_type": "display_data"
    }
   ],
   "source": [
    "plt.figure(figsize=(15, 5))"
   ]
  },
  {
   "cell_type": "code",
   "execution_count": 50,
   "metadata": {},
   "outputs": [
    {
     "data": {
      "text/plain": [
       "Text(0.5, 1.0, 'Cleaned Cholesterol Distribution')"
      ]
     },
     "execution_count": 50,
     "metadata": {},
     "output_type": "execute_result"
    },
    {
     "data": {
      "image/png": "[encoded data removed]",
      "text/plain": [
       "<Figure size 640x480 with 1 Axes>"
      ]
     },
     "metadata": {},
     "output_type": "display_data"
    }
   ],
   "source": [
    "plt.subplot(1, 3, 1)\n",
    "sns.histplot(df['cholesterol'], kde=True)\n",
    "plt.title('Cleaned Cholesterol Distribution')"
   ]
  },
  {
   "cell_type": "code",
   "execution_count": 51,
   "metadata": {},
   "outputs": [
    {
     "data": {
      "text/plain": [
       "Text(0.5, 1.0, 'Cleaned Blood Pressure Distribution')"
      ]
     },
     "execution_count": 51,
     "metadata": {},
     "output_type": "execute_result"
    },
    {
     "data": {
      "image/png": "[encoded data removed]",
      "text/plain": [
       "<Figure size 640x480 with 1 Axes>"
      ]
     },
     "metadata": {},
     "output_type": "display_data"
    }
   ],
   "source": [
    "plt.subplot(1, 3, 2)\n",
    "sns.histplot(df['trestbps'], kde=True)\n",
    "plt.title('Cleaned Blood Pressure Distribution')"
   ]
  },
  {
   "cell_type": "code",
   "execution_count": 52,
   "metadata": {},
   "outputs": [
    {
     "data": {
      "text/plain": [
       "Text(0.5, 1.0, 'Target Distribution')"
      ]
     },
     "execution_count": 52,
     "metadata": {},
     "output_type": "execute_result"
    },
    {
     "data": {
      "image/png": "[encoded data removed]",
      "text/plain": [
       "<Figure size 640x480 with 1 Axes>"
      ]
     },
     "metadata": {},
     "output_type": "display_data"
    }
   ],
   "source": [
    "plt.subplot(1, 3, 3)\n",
    "sns.countplot(x='target', data=df)\n",
    "plt.title('Target Distribution')"
   ]
  },
  {
   "cell_type": "code",
   "execution_count": 53,
   "metadata": {},
   "outputs": [
    {
     "data": {
      "text/plain": [
       "<Figure size 640x480 with 0 Axes>"
      ]
     },
     "metadata": {},
     "output_type": "display_data"
    }
   ],
   "source": [
    "plt.tight_layout()\n",
    "plt.show()"
   ]
  },
  {
   "cell_type": "markdown",
   "metadata": {},
   "source": [
    "Display the final cleaned dataset"
   ]
  },
  {
   "cell_type": "code",
   "execution_count": 54,
   "metadata": {},
   "outputs": [
    {
     "name": "stdout",
     "output_type": "stream",
     "text": [
      "\n",
      "Final Cleaned Dataset:\n"
     ]
    },
    {
     "data": {
      "text/html": [
       "<div>\n",
       "<style scoped>\n",
       "    .dataframe tbody tr th:only-of-type {\n",
       "        vertical-align: middle;\n",
       "    }\n",
       "\n",
       "    .dataframe tbody tr th {\n",
       "        vertical-align: top;\n",
       "    }\n",
       "\n",
       "    .dataframe thead th {\n",
       "        text-align: right;\n",
       "    }\n",
       "</style>\n",
       "<table border=\"1\" class=\"dataframe\">\n",
       "  <thead>\n",
       "    <tr style=\"text-align: right;\">\n",
       "      <th></th>\n",
       "      <th>age</th>\n",
       "      <th>sex</th>\n",
       "      <th>Chest pain type</th>\n",
       "      <th>trestbps</th>\n",
       "      <th>cholesterol</th>\n",
       "      <th>fasting blood sugar</th>\n",
       "      <th>resting ecg</th>\n",
       "      <th>max heart rate</th>\n",
       "      <th>exercise angina</th>\n",
       "      <th>oldpeak</th>\n",
       "      <th>ST slope</th>\n",
       "      <th>target</th>\n",
       "    </tr>\n",
       "  </thead>\n",
       "  <tbody>\n",
       "    <tr>\n",
       "      <th>0</th>\n",
       "      <td>70</td>\n",
       "      <td>1</td>\n",
       "      <td>3</td>\n",
       "      <td>130</td>\n",
       "      <td>322</td>\n",
       "      <td>0</td>\n",
       "      <td>2</td>\n",
       "      <td>109</td>\n",
       "      <td>0</td>\n",
       "      <td>2.4</td>\n",
       "      <td>2</td>\n",
       "      <td>2</td>\n",
       "    </tr>\n",
       "    <tr>\n",
       "      <th>1</th>\n",
       "      <td>67</td>\n",
       "      <td>0</td>\n",
       "      <td>3</td>\n",
       "      <td>115</td>\n",
       "      <td>409</td>\n",
       "      <td>0</td>\n",
       "      <td>2</td>\n",
       "      <td>160</td>\n",
       "      <td>0</td>\n",
       "      <td>1.6</td>\n",
       "      <td>2</td>\n",
       "      <td>1</td>\n",
       "    </tr>\n",
       "    <tr>\n",
       "      <th>2</th>\n",
       "      <td>57</td>\n",
       "      <td>1</td>\n",
       "      <td>2</td>\n",
       "      <td>124</td>\n",
       "      <td>261</td>\n",
       "      <td>0</td>\n",
       "      <td>0</td>\n",
       "      <td>141</td>\n",
       "      <td>0</td>\n",
       "      <td>0.3</td>\n",
       "      <td>1</td>\n",
       "      <td>2</td>\n",
       "    </tr>\n",
       "    <tr>\n",
       "      <th>3</th>\n",
       "      <td>64</td>\n",
       "      <td>1</td>\n",
       "      <td>3</td>\n",
       "      <td>128</td>\n",
       "      <td>263</td>\n",
       "      <td>0</td>\n",
       "      <td>0</td>\n",
       "      <td>105</td>\n",
       "      <td>1</td>\n",
       "      <td>0.2</td>\n",
       "      <td>2</td>\n",
       "      <td>1</td>\n",
       "    </tr>\n",
       "    <tr>\n",
       "      <th>4</th>\n",
       "      <td>74</td>\n",
       "      <td>0</td>\n",
       "      <td>2</td>\n",
       "      <td>120</td>\n",
       "      <td>269</td>\n",
       "      <td>0</td>\n",
       "      <td>2</td>\n",
       "      <td>121</td>\n",
       "      <td>1</td>\n",
       "      <td>0.2</td>\n",
       "      <td>1</td>\n",
       "      <td>1</td>\n",
       "    </tr>\n",
       "  </tbody>\n",
       "</table>\n",
       "</div>"
      ],
      "text/plain": [
       "   age  sex  Chest pain type  trestbps  cholesterol  fasting blood sugar  \\\n",
       "0   70    1                3       130          322                    0   \n",
       "1   67    0                3       115          409                    0   \n",
       "2   57    1                2       124          261                    0   \n",
       "3   64    1                3       128          263                    0   \n",
       "4   74    0                2       120          269                    0   \n",
       "\n",
       "   resting ecg  max heart rate  exercise angina  oldpeak  ST slope  target  \n",
       "0            2             109                0      2.4         2       2  \n",
       "1            2             160                0      1.6         2       1  \n",
       "2            0             141                0      0.3         1       2  \n",
       "3            0             105                1      0.2         2       1  \n",
       "4            2             121                1      0.2         1       1  "
      ]
     },
     "execution_count": 54,
     "metadata": {},
     "output_type": "execute_result"
    }
   ],
   "source": [
    "print(\"\\nFinal Cleaned Dataset:\")\n",
    "df.head()"
   ]
  },
  {
   "cell_type": "markdown",
   "metadata": {},
   "source": [
    "# Data Cleaning Summary<br>\n",
    "<br>\n",
    "In this analysis, we performed the following data cleaning steps:<br>\n",
    "<br>\n",
    "1. **Removed duplicates**: Reduced dataset from 1763 to 1491 rows by removing duplicate entries.<br>\n",
    "<br>\n",
    "2. **Handled invalid values**:<br>\n",
    "   - Replaced zero values in cholesterol with the median (172 records affected)<br>\n",
    "   - Replaced zero values in blood pressure (1 record affected)<br>\n",
    "   - Fixed inconsistent category values:<br>\n",
    "     - Replaced Chest pain type value 4 with 3 (625 records)<br>\n",
    "     - Replaced ST slope value 3 with 1 (81 records)<br>\n",
    "<br>\n",
    "3. **Addressed outliers**:<br>\n",
    "   - Capped cholesterol values at the 99th percentile (409)<br>\n",
    "<br>\n",
    "4. **Validated data types**:<br>\n",
    "   - Confirmed all features have appropriate data types<br>\n",
    "   - Documented meaning of categorical variables<br>\n",
    "<br>\n",
    "The cleaned dataset contains 1491 records with no missing values, valid ranges for all medical metrics, and consistent categorical values."
   ]
  },
  {
   "cell_type": "markdown",
   "metadata": {},
   "source": [
    "In[12]:"
   ]
  },
  {
   "cell_type": "markdown",
   "metadata": {},
   "source": [
    "Save the cleaned dataset to a new CSV file"
   ]
  },
  {
   "cell_type": "code",
   "execution_count": 55,
   "metadata": {},
   "outputs": [
    {
     "name": "stdout",
     "output_type": "stream",
     "text": [
      "Cleaned dataset saved to Heart_Attack_Cleaned.csv\n"
     ]
    }
   ],
   "source": [
    "cleaned_file_path = 'Heart_Attack_Cleaned.csv'\n",
    "df.to_csv(cleaned_file_path, index=False)\n",
    "print(f\"Cleaned dataset saved to {cleaned_file_path}\")"
   ]
  },
  {
   "cell_type": "markdown",
   "metadata": {},
   "source": [
    "In[13]:"
   ]
  },
  {
   "cell_type": "code",
   "execution_count": 56,
   "metadata": {},
   "outputs": [],
   "source": [
    "import scipy.stats as stats"
   ]
  },
  {
   "cell_type": "markdown",
   "metadata": {},
   "source": [
    "Create contingency table"
   ]
  },
  {
   "cell_type": "code",
   "execution_count": 57,
   "metadata": {},
   "outputs": [],
   "source": [
    "contingency_table = pd.crosstab(df['Chest pain type'], df['target'])"
   ]
  },
  {
   "cell_type": "markdown",
   "metadata": {},
   "source": [
    "Perform Chi-Square test of independence"
   ]
  },
  {
   "cell_type": "code",
   "execution_count": 58,
   "metadata": {},
   "outputs": [],
   "source": [
    "chi2, p, dof, expected = stats.chi2_contingency(contingency_table)"
   ]
  },
  {
   "cell_type": "code",
   "execution_count": 59,
   "metadata": {},
   "outputs": [
    {
     "name": "stdout",
     "output_type": "stream",
     "text": [
      "Contingency Table:\n",
      "target             0    1    2\n",
      "Chest pain type               \n",
      "0                 16    7    0\n",
      "1                 67   44    5\n",
      "2                217   77    7\n",
      "3                274  669  108\n",
      "\n",
      "Chi-square Statistic: 241.6549534544214\n",
      "Degrees of Freedom: 6\n",
      "p-value: 2.4876160961661455e-49\n"
     ]
    }
   ],
   "source": [
    "print(\"Contingency Table:\")\n",
    "print(contingency_table)\n",
    "print(\"\\nChi-square Statistic:\", chi2)\n",
    "print(\"Degrees of Freedom:\", dof)\n",
    "print(\"p-value:\", p)"
   ]
  },
  {
   "cell_type": "markdown",
   "metadata": {},
   "source": [
    "In[ ]:"
   ]
  },
  {
   "cell_type": "markdown",
   "metadata": {},
   "source": [
    "Statistical test for Question 1"
   ]
  },
  {
   "cell_type": "markdown",
   "metadata": {},
   "source": [
    "In[15]:"
   ]
  },
  {
   "cell_type": "code",
   "execution_count": 60,
   "metadata": {},
   "outputs": [],
   "source": [
    "from scipy import stats\n",
    "from IPython.display import display\n",
    "import pandas as pd\n",
    "import numpy as np"
   ]
  },
  {
   "cell_type": "code",
   "execution_count": 61,
   "metadata": {},
   "outputs": [],
   "source": [
    "df = pd.read_csv('Heart_Attack_Cleaned.csv')"
   ]
  },
  {
   "cell_type": "code",
   "execution_count": 62,
   "metadata": {},
   "outputs": [],
   "source": [
    "sex = df['sex']\n",
    "chol = df['cholesterol']"
   ]
  },
  {
   "cell_type": "markdown",
   "metadata": {},
   "source": [
    "Map 1 to Male, 0 to Female"
   ]
  },
  {
   "cell_type": "code",
   "execution_count": 63,
   "metadata": {},
   "outputs": [],
   "source": [
    "sex_label = sex.map({1:\"Male\", 0:\"Female\"}) if set(sex.unique()) <= {0,1} else sex.astype(str)\n",
    "male = chol[sex_label == \"Male\"].dropna().to_numpy()\n",
    "female = chol[sex_label == \"Female\"].dropna().to_numpy()"
   ]
  },
  {
   "cell_type": "markdown",
   "metadata": {},
   "source": [
    "Welch's t-test"
   ]
  },
  {
   "cell_type": "code",
   "execution_count": 64,
   "metadata": {},
   "outputs": [],
   "source": [
    "t_stat, p_val = stats.ttest_ind(male, female, equal_var = False)"
   ]
  },
  {
   "cell_type": "markdown",
   "metadata": {},
   "source": [
    "95% CI"
   ]
  },
  {
   "cell_type": "code",
   "execution_count": 65,
   "metadata": {},
   "outputs": [],
   "source": [
    "mf, mm = female.mean(), male.mean()\n",
    "sd_f, sd_m = female.std(ddof = 1), male.std(ddof = 1)\n",
    "n_f, n_m = len(female), len(male)\n",
    "se = np.sqrt(sd_f**2/n_f + sd_m**2/n_m)\n",
    "df_welch = (sd_f**2/n_f + sd_m**2/n_m)**2 / ((sd_f**2/n_f)**2/(n_f-1) + (sd_m**2/n_m)**2/(n_m-1))\n",
    "tcrit = stats.t.ppf(0.975, df_welch)\n",
    "diff = female.mean() - male.mean()\n",
    "ci = (diff - tcrit*se, diff + tcrit*se)"
   ]
  },
  {
   "cell_type": "markdown",
   "metadata": {},
   "source": [
    "Hedges' g effect size"
   ]
  },
  {
   "cell_type": "code",
   "execution_count": 66,
   "metadata": {},
   "outputs": [],
   "source": [
    "def hedges_g(a, b):\n",
    "    na, nb = len(a), len(b)\n",
    "    sp = np.sqrt(((na-1)*a.var(ddof=1) + (nb-1)*b.var(ddof=1)) / (na+nb-2))\n",
    "    d = (a.mean() - b.mean()) / sp\n",
    "    J = 1 - 3/(4*(na+nb)-9)\n",
    "    return d*J"
   ]
  },
  {
   "cell_type": "markdown",
   "metadata": {},
   "source": [
    "Display statistics in tables"
   ]
  },
  {
   "cell_type": "code",
   "execution_count": 67,
   "metadata": {},
   "outputs": [],
   "source": [
    "summary_tbl = pd.DataFrame(\n",
    "    {\n",
    "        \"n\": [n_f, n_m],\n",
    "        \"Mean\": [mf, mm],\n",
    "        \"SD\": [sd_f, sd_m],\n",
    "    },\n",
    "    index=[\"Female\", \"Male\"],\n",
    ").round(3)"
   ]
  },
  {
   "cell_type": "code",
   "execution_count": 68,
   "metadata": {},
   "outputs": [],
   "source": [
    "test_tbl = pd.DataFrame(\n",
    "    {\n",
    "        \"Welch t\": [t_stat],\n",
    "        \"df (Welch)\": [df_welch],\n",
    "        \"p-value\": [p_val],\n",
    "        \"Mean diff (Fâˆ’M)\": [diff],\n",
    "        \"95% CI low\": [ci[0]],\n",
    "        \"95% CI high\": [ci[1]],\n",
    "        \"Hedges' g\": [hedges_g(female, male)],\n",
    "    }\n",
    ").round({\"Welch t\": 3, \"df (Welch)\": 1, \"p-value\": 7,\n",
    "         \"Mean diff (Fâˆ’M)\": 3, \"95% CI low\": 3, \"95% CI high\": 3, \"Hedges' g\": 3})"
   ]
  },
  {
   "cell_type": "code",
   "execution_count": null,
   "metadata": {},
   "outputs": [],
   "source": []
  },
  {
   "cell_type": "code",
   "execution_count": 69,
   "metadata": {},
   "outputs": [
    {
     "data": {
      "text/html": [
       "<div>\n",
       "<style scoped>\n",
       "    .dataframe tbody tr th:only-of-type {\n",
       "        vertical-align: middle;\n",
       "    }\n",
       "\n",
       "    .dataframe tbody tr th {\n",
       "        vertical-align: top;\n",
       "    }\n",
       "\n",
       "    .dataframe thead th {\n",
       "        text-align: right;\n",
       "    }\n",
       "</style>\n",
       "<table border=\"1\" class=\"dataframe\">\n",
       "  <thead>\n",
       "    <tr style=\"text-align: right;\">\n",
       "      <th></th>\n",
       "      <th>n</th>\n",
       "      <th>Mean</th>\n",
       "      <th>SD</th>\n",
       "    </tr>\n",
       "  </thead>\n",
       "  <tbody>\n",
       "    <tr>\n",
       "      <th>Female</th>\n",
       "      <td>377</td>\n",
       "      <td>257.469</td>\n",
       "      <td>58.044</td>\n",
       "    </tr>\n",
       "    <tr>\n",
       "      <th>Male</th>\n",
       "      <td>1114</td>\n",
       "      <td>240.311</td>\n",
       "      <td>45.093</td>\n",
       "    </tr>\n",
       "  </tbody>\n",
       "</table>\n",
       "</div>"
      ],
      "text/plain": [
       "           n     Mean      SD\n",
       "Female   377  257.469  58.044\n",
       "Male    1114  240.311  45.093"
      ]
     },
     "metadata": {},
     "output_type": "display_data"
    },
    {
     "data": {
      "text/html": [
       "<div>\n",
       "<style scoped>\n",
       "    .dataframe tbody tr th:only-of-type {\n",
       "        vertical-align: middle;\n",
       "    }\n",
       "\n",
       "    .dataframe tbody tr th {\n",
       "        vertical-align: top;\n",
       "    }\n",
       "\n",
       "    .dataframe thead th {\n",
       "        text-align: right;\n",
       "    }\n",
       "</style>\n",
       "<table border=\"1\" class=\"dataframe\">\n",
       "  <thead>\n",
       "    <tr style=\"text-align: right;\">\n",
       "      <th></th>\n",
       "      <th>Welch t</th>\n",
       "      <th>df (Welch)</th>\n",
       "      <th>p-value</th>\n",
       "      <th>Mean diff (Fâˆ’M)</th>\n",
       "      <th>95% CI low</th>\n",
       "      <th>95% CI high</th>\n",
       "      <th>Hedges' g</th>\n",
       "    </tr>\n",
       "  </thead>\n",
       "  <tbody>\n",
       "    <tr>\n",
       "      <th>0</th>\n",
       "      <td>-5.231</td>\n",
       "      <td>537.7</td>\n",
       "      <td>2.000000e-07</td>\n",
       "      <td>17.159</td>\n",
       "      <td>10.715</td>\n",
       "      <td>23.603</td>\n",
       "      <td>0.352</td>\n",
       "    </tr>\n",
       "  </tbody>\n",
       "</table>\n",
       "</div>"
      ],
      "text/plain": [
       "   Welch t  df (Welch)       p-value  Mean diff (Fâˆ’M)  95% CI low  \\\n",
       "0   -5.231       537.7  2.000000e-07             17.159      10.715   \n",
       "\n",
       "   95% CI high  Hedges' g  \n",
       "0       23.603      0.352  "
      ]
     },
     "metadata": {},
     "output_type": "display_data"
    }
   ],
   "source": [
    "display(summary_tbl)\n",
    "display(test_tbl)"
   ]
  }
 ],
 "metadata": {
  "kernelspec": {
   "display_name": "Python 3",
   "language": "python",
   "name": "python3"
  },
  "language_info": {
   "codemirror_mode": {
    "name": "ipython",
    "version": 3
   },
   "file_extension": ".py",
   "mimetype": "text/x-python",
   "name": "python",
   "nbconvert_exporter": "python",
   "pygments_lexer": "ipython3",
   "version": "3.6.4"
  }
 },
 "nbformat": 4,
 "nbformat_minor": 2
}
